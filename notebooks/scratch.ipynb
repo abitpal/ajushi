{
 "cells": [
  {
   "cell_type": "code",
   "execution_count": null,
   "id": "d6b50cc6",
   "metadata": {},
   "outputs": [
    {
     "ename": "",
     "evalue": "",
     "output_type": "error",
     "traceback": [
      "\u001b[1;31mRunning cells with 'ajushi (Python 3.12.4)' requires the ipykernel package.\n",
      "\u001b[1;31m<a href='command:jupyter.createPythonEnvAndSelectController'>Create a Python Environment</a> with the required packages.\n",
      "\u001b[1;31mOr install 'ipykernel' using the command: 'conda install -n ajushi ipykernel --update-deps --force-reinstall'"
     ]
    }
   ],
   "source": [
    "from env_setup import CarRacingWrapper\n",
    "from stable_baselines3 import PPO\n",
    "from stable_baselines3.common.env_util import make_vec_env\n",
    "\n",
    "# env = CarRacingWrapper(continuous=True, frame_stack=4, grayscale=True, render_mode=\"human\")\n",
    "env = make_vec_env(\"CarRacing-v3\", n_envs=1)\n",
    "\n",
    "\n",
    "model.learn(total_timesteps=10000, progress_bar=True)\n",
    "\n",
    "obs = env.reset()\n",
    "while True:\n",
    "    action, _states = model.predict(obs)\n",
    "    obs, rewards, dones, info = env.step(action)\n",
    "    env.render(\"human\")\n",
    "\n",
    "print(f\"Episode finished with total reward: {total_reward}\")\n",
    "env.close()"
   ]
  },
  {
   "cell_type": "code",
   "execution_count": null,
   "id": "98fc1514",
   "metadata": {},
   "outputs": [],
   "source": []
  }
 ],
 "metadata": {
  "kernelspec": {
   "display_name": "ajushi",
   "language": "python",
   "name": "python3"
  },
  "language_info": {
   "name": "python",
   "version": "3.12.4"
  }
 },
 "nbformat": 4,
 "nbformat_minor": 5
}
